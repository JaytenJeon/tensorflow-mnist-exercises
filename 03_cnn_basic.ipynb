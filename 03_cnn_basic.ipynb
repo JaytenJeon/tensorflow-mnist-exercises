{
  "nbformat": 4,
  "nbformat_minor": 0,
  "metadata": {
    "colab": {
      "name": "03.cnn-basic.ipynb",
      "version": "0.3.2",
      "provenance": []
    },
    "kernelspec": {
      "name": "python3",
      "display_name": "Python 3"
    },
    "accelerator": "GPU"
  },
  "cells": [
    {
      "metadata": {
        "id": "wl_pfSDEHCzA",
        "colab_type": "code",
        "colab": {}
      },
      "cell_type": "code",
      "source": [
        "import tensorflow as tf\n",
        "import numpy as np\n",
        "import matplotlib.pyplot as plt\n",
        "from tensorflow.keras.datasets import mnist"
      ],
      "execution_count": 0,
      "outputs": []
    },
    {
      "metadata": {
        "id": "WOihG1ydHkj-",
        "colab_type": "code",
        "colab": {
          "base_uri": "https://localhost:8080/",
          "height": 105
        },
        "outputId": "c7f3d24a-8273-4ee3-fb94-1c66df151157"
      },
      "cell_type": "code",
      "source": [
        "(X_train, Y_train), (X_test, Y_test) = mnist.load_data()\n",
        "n_class = 10\n",
        "\n",
        "X_train = np.reshape(X_train, (-1, 28,  28, 1)) / 255.\n",
        "X_test = np.reshape(X_test, (-1, 28, 28, 1)) /255.\n",
        "\n",
        "Y_train = np.eye(n_class)[Y_train]\n",
        "Y_test = np.eye(n_class)[Y_test]\n",
        "\n",
        "print(\"X_train.shape :\", X_train.shape)\n",
        "print(\"Y_train.shape :\", Y_train.shape)\n",
        "print()\n",
        "print(\"X_test.shape :\", X_test.shape)\n",
        "print(\"Y_test.shape :\", Y_test.shape)"
      ],
      "execution_count": 2,
      "outputs": [
        {
          "output_type": "stream",
          "text": [
            "X_train.shape : (60000, 28, 28, 1)\n",
            "Y_train.shape : (60000, 10)\n",
            "\n",
            "X_test.shape : (10000, 28, 28, 1)\n",
            "Y_test.shape : (10000, 10)\n"
          ],
          "name": "stdout"
        }
      ]
    },
    {
      "metadata": {
        "id": "cpXQPNqS-ZPH",
        "colab_type": "code",
        "colab": {}
      },
      "cell_type": "code",
      "source": [
        "class Model(object):\n",
        "  def __init__(self, X_shape, Y_shape, learning_rate):\n",
        "    self.build_graph(X_shape, Y_shape, learning_rate)\n",
        "    \n",
        "  def make_placeholder(self, X_shape, Y_shape):\n",
        "    self.X = tf.placeholder(tf.float32, [None, X_shape[1], X_shape[2], 1], name=\"X\")\n",
        "    self.Y = tf.placeholder(tf.int32, [None, Y_shape[1]], name=\"Y\")\n",
        "    \n",
        "  def initialize_parameter(self, shape, name):\n",
        "    var = tf.get_variable(name=name, shape=shape, initializer=tf.contrib.layers.xavier_initializer(seed=20181008))\n",
        "    return var\n",
        "  \n",
        "  def fully_connected_layer(self, X, W, b, activation=\"softmax\"):\n",
        "    Z = tf.matmul(X, W) + b\n",
        "    if activation is \"softmax\":\n",
        "      A = tf.nn.softmax(Z)\n",
        "    elif activation is \"relu\":\n",
        "      A = tf.nn.relu(Z)\n",
        "    return A\n",
        "  \n",
        "  def conv_layer(self, X, f_size, f_channel, strides, padding, layer):\n",
        "    W = self.initialize_parameter([f_size, f_size, X.shape[-1], f_channel], \"W\"+str(layer))\n",
        "    Z = tf.nn.conv2d(X, W, strides, padding)\n",
        "    A = tf.nn.relu(Z)\n",
        "    return A\n",
        "  \n",
        "  def pool_layer(self, A, ksize, strides, padding, pool_type=\"max\"):\n",
        "    if pool_type is \"max\":\n",
        "      A = tf.nn.max_pool(A, ksize, strides, padding)\n",
        "    elif pool_type is \"avg\":\n",
        "      A = tf.nn.avg_pool(A, ksize, strides, padding)\n",
        "    return A\n",
        "  \n",
        "  def compute_cost(self, A, Y):\n",
        "    cost = tf.reduce_mean(tf.nn.softmax_cross_entropy_with_logits_v2(logits=A, labels=Y))\n",
        "    return cost\n",
        "  \n",
        "  def compute_acc(self, A, Y):\n",
        "    self.Y_hat = tf.argmax(A, axis=1)\n",
        "    self.Y_label = tf.argmax(Y, axis=1)\n",
        "    equals = tf.equal(self.Y_label, self.Y_hat)\n",
        "    acc = tf.reduce_mean(tf.cast(equals, tf.float32))\n",
        "    return acc\n",
        "  \n",
        "  def build_graph(self, X_shape, Y_shape, learning_rate):\n",
        "    self.make_placeholder(X_shape, Y_shape)\n",
        "    with tf.variable_scope(\"Conv1\", reuse=tf.AUTO_REUSE):\n",
        "      A1 = self.conv_layer(self.X, 5, 10, [1,1,1,1], \"SAME\", 1)\n",
        "      A1 = self.pool_layer(A1, [1,2,2,1], [1,2,2,1], \"SAME\", \"max\")\n",
        "      \n",
        "    with tf.variable_scope(\"Conv2\", reuse=tf.AUTO_REUSE):\n",
        "      A2 = self.conv_layer(A1, 5, 10, [1,1,1,1], \"SAME\", 2)\n",
        "      A2 = self.pool_layer(A2, [1,2,2,1], [1,2,2,1], \"SAME\", \"max\")\n",
        "\n",
        "    A2 = tf.layers.flatten(A2)\n",
        "    with tf.variable_scope(\"FC3\", reuse=tf.AUTO_REUSE):\n",
        "      W = self.initialize_parameter([A2.shape[1], Y_shape[1]], \"W3\")\n",
        "      b = self.initialize_parameter([Y_shape[1]], \"b3\")\n",
        "      \n",
        "      A3 = self.fully_connected_layer(A2, W, b, \"softmax\")\n",
        "     \n",
        "    with tf.variable_scope(\"OP\", reuse=tf.AUTO_REUSE):\n",
        "\n",
        "      self.cost = self.compute_cost(A3, self.Y)\n",
        "      self.acc = self.compute_acc(A3, self.Y)\n",
        "      self.train = tf.train.AdamOptimizer(learning_rate).minimize(self.cost)"
      ],
      "execution_count": 0,
      "outputs": []
    },
    {
      "metadata": {
        "id": "l0qG5nnRG-QR",
        "colab_type": "code",
        "colab": {}
      },
      "cell_type": "code",
      "source": [
        "epochs = 201\n",
        "learning_rate = 0.01\n",
        "\n",
        "myModel = Model(X_train.shape, Y_train.shape, learning_rate)"
      ],
      "execution_count": 0,
      "outputs": []
    },
    {
      "metadata": {
        "id": "dUptImMsI9xn",
        "colab_type": "code",
        "colab": {
          "base_uri": "https://localhost:8080/",
          "height": 422
        },
        "outputId": "daf6d567-a95c-4a3f-f018-9322b5381ed6"
      },
      "cell_type": "code",
      "source": [
        "sess = tf.Session()\n",
        "sess.run(tf.global_variables_initializer())\n",
        "sess.run(tf.local_variables_initializer())\n",
        "for epoch in range(epochs):\n",
        "  _, cost, acc = sess.run([myModel.train, myModel.cost, myModel.acc], feed_dict={myModel.X: X_train, myModel.Y: Y_train})\n",
        "  if epoch % 10 == 0 :\n",
        "    print(\"Epoch:\", epoch,\"\\t\", \"Cost:\",cost,\"\\t\", \"Acc:\",acc * 100)\n",
        "print(\"Train Acc:\",acc*100)\n",
        "acc = sess.run(myModel.acc, feed_dict={myModel.X: X_test, myModel.Y: Y_test})\n",
        "print(\"Test Acc:\", acc * 100 )"
      ],
      "execution_count": 5,
      "outputs": [
        {
          "output_type": "stream",
          "text": [
            "Epoch: 0 \t Cost: 2.3020937 \t Acc: 11.721666902303696\n",
            "Epoch: 10 \t Cost: 1.7823257 \t Acc: 69.39833164215088\n",
            "Epoch: 20 \t Cost: 1.5954542 \t Acc: 87.00166940689087\n",
            "Epoch: 30 \t Cost: 1.5454863 \t Acc: 91.75666570663452\n",
            "Epoch: 40 \t Cost: 1.5209867 \t Acc: 94.16166543960571\n",
            "Epoch: 50 \t Cost: 1.5065702 \t Acc: 95.56166529655457\n",
            "Epoch: 60 \t Cost: 1.4976321 \t Acc: 96.45833373069763\n",
            "Epoch: 70 \t Cost: 1.4923333 \t Acc: 96.99000120162964\n",
            "Epoch: 80 \t Cost: 1.4883213 \t Acc: 97.41166830062866\n",
            "Epoch: 90 \t Cost: 1.4850487 \t Acc: 97.7483332157135\n",
            "Epoch: 100 \t Cost: 1.4824153 \t Acc: 98.01833629608154\n",
            "Epoch: 110 \t Cost: 1.480539 \t Acc: 98.20166826248169\n",
            "Epoch: 120 \t Cost: 1.4793776 \t Acc: 98.29999804496765\n",
            "Epoch: 130 \t Cost: 1.4779955 \t Acc: 98.44833612442017\n",
            "Epoch: 140 \t Cost: 1.4770701 \t Acc: 98.55166673660278\n",
            "Epoch: 150 \t Cost: 1.4763018 \t Acc: 98.60666394233704\n",
            "Epoch: 160 \t Cost: 1.475543 \t Acc: 98.68999719619751\n",
            "Epoch: 170 \t Cost: 1.474844 \t Acc: 98.76333475112915\n",
            "Epoch: 180 \t Cost: 1.4742209 \t Acc: 98.81166815757751\n",
            "Epoch: 190 \t Cost: 1.4737462 \t Acc: 98.85333180427551\n",
            "Epoch: 200 \t Cost: 1.4734626 \t Acc: 98.87999892234802\n",
            "Train Acc: 98.87999892234802\n",
            "Test Acc: 98.21000099182129\n"
          ],
          "name": "stdout"
        }
      ]
    },
    {
      "metadata": {
        "id": "onrOPjIoLgmR",
        "colab_type": "code",
        "colab": {
          "base_uri": "https://localhost:8080/",
          "height": 566
        },
        "outputId": "d396a95d-3eb3-473d-a28f-26fced732fae"
      },
      "cell_type": "code",
      "source": [
        "%matplotlib inline\n",
        "Y_hat, Y_label = sess.run([myModel.Y_hat, myModel.Y_label], feed_dict={myModel.X: X_test, myModel.Y:Y_test})\n",
        "fig=plt.figure(figsize=(20, 10))\n",
        "\n",
        "not_equal= Y_hat!=Y_label\n",
        "imgs = X_test[not_equal] \n",
        "r = np.random.randint(len(imgs)-10, size=1)\n",
        "for i in range(10):\n",
        "  img = imgs[i+r].reshape(28, 28)\n",
        "  fig.add_subplot(2, 5, i+1)\n",
        "  plt.imshow(img)\n",
        "  plt.title(\"Target: \"+str(Y_label[not_equal][i+r])+\"\\nPredict: \"+ str(Y_hat[not_equal][i+r]) )\n"
      ],
      "execution_count": 6,
      "outputs": [
        {
          "output_type": "display_data",
          "data": {
            "image/png": "[encoded data removed]",
            "text/plain": [
              "<matplotlib.figure.Figure at 0x7f4d5e683860>"
            ]
          },
          "metadata": {
            "tags": []
          }
        }
      ]
    },
    {
      "metadata": {
        "id": "xqtJCsIjbeZD",
        "colab_type": "code",
        "colab": {}
      },
      "cell_type": "code",
      "source": [
        ""
      ],
      "execution_count": 0,
      "outputs": []
    }
  ]
}