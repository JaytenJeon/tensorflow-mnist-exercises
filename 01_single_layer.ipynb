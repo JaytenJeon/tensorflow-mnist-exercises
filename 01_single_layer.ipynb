{
  "nbformat": 4,
  "nbformat_minor": 0,
  "metadata": {
    "colab": {
      "name": "01.single-layer.ipynb",
      "version": "0.3.2",
      "provenance": []
    },
    "kernelspec": {
      "name": "python3",
      "display_name": "Python 3"
    },
    "accelerator": "GPU"
  },
  "cells": [
    {
      "metadata": {
        "id": "wl_pfSDEHCzA",
        "colab_type": "code",
        "colab": {}
      },
      "cell_type": "code",
      "source": [
        "import tensorflow as tf\n",
        "import numpy as np\n",
        "import matplotlib.pyplot as plt\n",
        "from tensorflow.keras.datasets import mnist"
      ],
      "execution_count": 0,
      "outputs": []
    },
    {
      "metadata": {
        "id": "WOihG1ydHkj-",
        "colab_type": "code",
        "colab": {
          "base_uri": "https://localhost:8080/",
          "height": 105
        },
        "outputId": "89576053-b864-45ac-d17f-97b16607ba7d"
      },
      "cell_type": "code",
      "source": [
        "(X_train, Y_train), (X_test, Y_test) = mnist.load_data()\n",
        "n_class = 10\n",
        "\n",
        "X_train = np.reshape(X_train, (-1, 28 * 28)) / 255.\n",
        "X_test = np.reshape(X_test, (-1, 28 * 28)) /255.\n",
        "\n",
        "Y_train = np.eye(n_class)[Y_train]\n",
        "Y_test = np.eye(n_class)[Y_test]\n",
        "\n",
        "print(\"X_train.shape :\", X_train.shape)\n",
        "print(\"Y_train.shape :\", Y_train.shape)\n",
        "print()\n",
        "print(\"X_test.shape :\", X_test.shape)\n",
        "print(\"Y_test.shape :\", Y_test.shape)"
      ],
      "execution_count": 2,
      "outputs": [
        {
          "output_type": "stream",
          "text": [
            "X_train.shape : (60000, 784)\n",
            "Y_train.shape : (60000, 10)\n",
            "\n",
            "X_test.shape : (10000, 784)\n",
            "Y_test.shape : (10000, 10)\n"
          ],
          "name": "stdout"
        }
      ]
    },
    {
      "metadata": {
        "id": "5MeA3ijEHvoW",
        "colab_type": "code",
        "colab": {}
      },
      "cell_type": "code",
      "source": [
        "learning_rate = 0.01\n",
        "epochs = 201\n",
        "\n",
        "X = tf.placeholder(tf.float32, [None, 784], name=\"X\")\n",
        "Y = tf.placeholder(tf.int32, [None, 10], name=\"Y\")\n",
        "\n",
        "with tf.variable_scope(\"FC1\", reuse=tf.AUTO_REUSE):\n",
        "  W = tf.get_variable(name=\"W\", shape=[784, 10], initializer=tf.contrib.layers.xavier_initializer(seed=20181007))\n",
        "  b = tf.get_variable(name=\"b\", shape=[10], initializer=tf.contrib.layers.xavier_initializer(seed=20181007))\n",
        "\n",
        "  Z = tf.matmul(X, W) + b\n",
        "  A = tf.nn.softmax(Z)\n",
        "\n",
        "  cost = tf.reduce_mean(tf.nn.softmax_cross_entropy_with_logits_v2(logits=A, labels=Y))\n",
        "  acc = tf.reduce_mean(tf.cast(tf.equal(tf.argmax(Y, axis=1),tf.argmax(A, axis=1)), tf.float32))\n",
        "  optimizer = tf.train.AdamOptimizer(learning_rate).minimize(cost)"
      ],
      "execution_count": 0,
      "outputs": []
    },
    {
      "metadata": {
        "id": "dUptImMsI9xn",
        "colab_type": "code",
        "colab": {
          "base_uri": "https://localhost:8080/",
          "height": 422
        },
        "outputId": "11bc4d78-68f0-408b-e885-93487cdd2432"
      },
      "cell_type": "code",
      "source": [
        "sess = tf.Session()\n",
        "sess.run(tf.global_variables_initializer())\n",
        "sess.run(tf.local_variables_initializer())\n",
        "for epoch in range(epochs):\n",
        "  _, _cost, _acc = sess.run([optimizer, cost, acc], feed_dict={X: X_train, Y: Y_train})\n",
        "  if epoch % 10 == 0 :\n",
        "    print(\"Epoch:\", epoch,\"\\t\", \"Cost:\",_cost,\"\\t\", \"Acc:\",_acc * 100)\n",
        "print(\"Train Acc:\",_acc*100)\n",
        "_acc = sess.run(acc, feed_dict={X: X_test, Y: Y_test})\n",
        "print(\"Test Acc:\", _acc * 100 )"
      ],
      "execution_count": 4,
      "outputs": [
        {
          "output_type": "stream",
          "text": [
            "Epoch: 0 \t Cost: 2.3047657 \t Acc: 11.201666295528412\n",
            "Epoch: 10 \t Cost: 1.7742414 \t Acc: 79.29166555404663\n",
            "Epoch: 20 \t Cost: 1.6563239 \t Acc: 85.32000184059143\n",
            "Epoch: 30 \t Cost: 1.6196469 \t Acc: 87.58999705314636\n",
            "Epoch: 40 \t Cost: 1.6014175 \t Acc: 88.79666924476624\n",
            "Epoch: 50 \t Cost: 1.5904578 \t Acc: 89.56000208854675\n",
            "Epoch: 60 \t Cost: 1.5829066 \t Acc: 90.17166495323181\n",
            "Epoch: 70 \t Cost: 1.5772018 \t Acc: 90.59000015258789\n",
            "Epoch: 80 \t Cost: 1.5726383 \t Acc: 90.95333218574524\n",
            "Epoch: 90 \t Cost: 1.5688729 \t Acc: 91.25166535377502\n",
            "Epoch: 100 \t Cost: 1.565706 \t Acc: 91.4900004863739\n",
            "Epoch: 110 \t Cost: 1.5629915 \t Acc: 91.68499708175659\n",
            "Epoch: 120 \t Cost: 1.5606244 \t Acc: 91.86833500862122\n",
            "Epoch: 130 \t Cost: 1.5585287 \t Acc: 92.0199990272522\n",
            "Epoch: 140 \t Cost: 1.5566481 \t Acc: 92.13500022888184\n",
            "Epoch: 150 \t Cost: 1.5549469 \t Acc: 92.24333167076111\n",
            "Epoch: 160 \t Cost: 1.5533954 \t Acc: 92.3550009727478\n",
            "Epoch: 170 \t Cost: 1.5519694 \t Acc: 92.47000217437744\n",
            "Epoch: 180 \t Cost: 1.5506513 \t Acc: 92.54666566848755\n",
            "Epoch: 190 \t Cost: 1.5494282 \t Acc: 92.65166521072388\n",
            "Epoch: 200 \t Cost: 1.5482901 \t Acc: 92.74333119392395\n",
            "Train Acc: 92.74333119392395\n",
            "Test Acc: 92.33999848365784\n"
          ],
          "name": "stdout"
        }
      ]
    },
    {
      "metadata": {
        "id": "onrOPjIoLgmR",
        "colab_type": "code",
        "colab": {
          "base_uri": "https://localhost:8080/",
          "height": 566
        },
        "outputId": "c0e8f401-9556-4bbf-aaa1-af384d1a0990"
      },
      "cell_type": "code",
      "source": [
        "%matplotlib inline\n",
        "Y_hat, Y_ = sess.run([tf.argmax(A, axis=1), tf.argmax(Y_test, axis=1)], feed_dict={X: X_test, Y:Y_test})\n",
        "fig=plt.figure(figsize=(20, 10))\n",
        "\n",
        "not_equal= Y_hat!=Y_\n",
        "imgs = X_test[not_equal] \n",
        "r = np.random.randint(len(imgs)-10, size=1)\n",
        "for i in range(10):\n",
        "  img = imgs[i+r].reshape(28, 28)\n",
        "  fig.add_subplot(2, 5, i+1)\n",
        "  plt.imshow(img)\n",
        "  plt.title(\"Target: \"+str(Y_[not_equal][i+r])+\"\\nPredict: \"+ str(Y_hat[not_equal][i+r]) )\n"
      ],
      "execution_count": 5,
      "outputs": [
        {
          "output_type": "display_data",
          "data": {
            "image/png": "[encoded data removed]",
            "text/plain": [
              "<matplotlib.figure.Figure at 0x7f2f633737b8>"
            ]
          },
          "metadata": {
            "tags": []
          }
        }
      ]
    },
    {
      "metadata": {
        "id": "xqtJCsIjbeZD",
        "colab_type": "code",
        "colab": {}
      },
      "cell_type": "code",
      "source": [
        ""
      ],
      "execution_count": 0,
      "outputs": []
    }
  ]
}