{
  "nbformat": 4,
  "nbformat_minor": 0,
  "metadata": {
    "colab": {
      "name": "03.cnn-basic.ipynb",
      "version": "0.3.2",
      "provenance": []
    },
    "kernelspec": {
      "name": "python3",
      "display_name": "Python 3"
    },
    "accelerator": "GPU"
  },
  "cells": [
    {
      "metadata": {
        "id": "wl_pfSDEHCzA",
        "colab_type": "code",
        "colab": {}
      },
      "cell_type": "code",
      "source": [
        "import tensorflow as tf\n",
        "import numpy as np\n",
        "import matplotlib.pyplot as plt\n",
        "from tensorflow.keras.datasets import mnist"
      ],
      "execution_count": 0,
      "outputs": []
    },
    {
      "metadata": {
        "id": "WOihG1ydHkj-",
        "colab_type": "code",
        "colab": {
          "base_uri": "https://localhost:8080/",
          "height": 140
        },
        "outputId": "18b40759-dc51-4b7f-d0f9-cdc7250bb26d"
      },
      "cell_type": "code",
      "source": [
        "(X_train, Y_train), (X_test, Y_test) = mnist.load_data()\n",
        "n_class = 10\n",
        "\n",
        "X_train = np.reshape(X_train, (-1, 28,  28, 1)) / 255.\n",
        "X_test = np.reshape(X_test, (-1, 28, 28, 1)) /255.\n",
        "\n",
        "Y_train = np.eye(n_class)[Y_train]\n",
        "Y_test = np.eye(n_class)[Y_test]\n",
        "\n",
        "print(\"X_train.shape :\", X_train.shape)\n",
        "print(\"Y_train.shape :\", Y_train.shape)\n",
        "print()\n",
        "print(\"X_test.shape :\", X_test.shape)\n",
        "print(\"Y_test.shape :\", Y_test.shape)"
      ],
      "execution_count": 2,
      "outputs": [
        {
          "output_type": "stream",
          "text": [
            "Downloading data from https://storage.googleapis.com/tensorflow/tf-keras-datasets/mnist.npz\n",
            "11493376/11490434 [==============================] - 1s 0us/step\n",
            "X_train.shape : (60000, 28, 28, 1)\n",
            "Y_train.shape : (60000, 10)\n",
            "\n",
            "X_test.shape : (10000, 28, 28, 1)\n",
            "Y_test.shape : (10000, 10)\n"
          ],
          "name": "stdout"
        }
      ]
    },
    {
      "metadata": {
        "id": "cpXQPNqS-ZPH",
        "colab_type": "code",
        "colab": {}
      },
      "cell_type": "code",
      "source": [
        "class Model(object):\n",
        "  def __init__(self, X_shape, Y_shape, learning_rate):\n",
        "    self.build_graph(X_shape, Y_shape, learning_rate)\n",
        "    \n",
        "  def make_placeholder(self, X_shape, Y_shape):\n",
        "    self.X = tf.placeholder(tf.float32, [None, X_shape[1], X_shape[2], 1], name=\"X\")\n",
        "    self.Y = tf.placeholder(tf.int32, [None, Y_shape[1]], name=\"Y\")\n",
        "    \n",
        "  def initialize_parameter(self, shape, name):\n",
        "    var = tf.get_variable(name=name, shape=shape, initializer=tf.contrib.layers.xavier_initializer(seed=20181008))\n",
        "    return var\n",
        " \n",
        "\n",
        "  def conv_layer(self, X, f_size, f_channel, strides, padding, layer):\n",
        "    W = self.initialize_parameter([f_size, f_size, X.shape[-1], f_channel], \"W\"+str(layer))\n",
        "    Z = tf.nn.conv2d(X, W, strides, padding)\n",
        "    A = tf.nn.relu(Z)\n",
        "    return A\n",
        "  \n",
        "  def pool_layer(self, A, ksize, strides, padding, pool_type=\"max\"):\n",
        "    if pool_type is \"max\":\n",
        "      A = tf.nn.max_pool(A, ksize, strides, padding)\n",
        "    elif pool_type is \"avg\":\n",
        "      A = tf.nn.avg_pool(A, ksize, strides, padding)\n",
        "    return A\n",
        "  \n",
        "  def compute_cost(self, A, Y):\n",
        "    cost = tf.reduce_mean(tf.nn.softmax_cross_entropy_with_logits_v2(logits=A, labels=Y))\n",
        "    return cost\n",
        "  \n",
        "  def compute_acc(self, A, Y):\n",
        "    self.Y_hat = tf.argmax(A, axis=1)\n",
        "    self.Y_label = tf.argmax(Y, axis=1)\n",
        "    equals = tf.equal(self.Y_label, self.Y_hat)\n",
        "    acc = tf.reduce_mean(tf.cast(equals, tf.float32))\n",
        "    return acc\n",
        "  \n",
        "  def build_graph(self, X_shape, Y_shape, learning_rate):\n",
        "    self.make_placeholder(X_shape, Y_shape)\n",
        "    with tf.variable_scope(\"Conv1\", reuse=tf.AUTO_REUSE):\n",
        "      A1 = self.conv_layer(self.X, 5, 6, [1,1,1,1], \"SAME\", 1)\n",
        "      A1 = self.pool_layer(A1, [1,2,2,1], [1,2,2,1], \"VALID\", \"avg\")\n",
        "      \n",
        "    with tf.variable_scope(\"Conv2\", reuse=tf.AUTO_REUSE):\n",
        "      A2 = self.conv_layer(A1, 5, 16, [1,1,1,1], \"VALID\", 2)\n",
        "      A2 = self.pool_layer(A2, [1,2,2,1], [1,2,2,1], \"VALID\", \"avg\")\n",
        "\n",
        "    A2 = tf.layers.flatten(A2)\n",
        "\n",
        "    with tf.variable_scope(\"FC3\", reuse=tf.AUTO_REUSE):\n",
        "      A3 = tf.contrib.layers.fully_connected(A2, 120)\n",
        "    \n",
        "    with tf.variable_scope(\"FC4\", reuse=tf.AUTO_REUSE):\n",
        "      A4 = tf.contrib.layers.fully_connected(A3, 84)\n",
        "\n",
        "    with tf.variable_scope(\"Softmax5\", reuse=tf.AUTO_REUSE):\n",
        "      A5 = tf.contrib.layers.fully_connected(A4, 10, activation_fn=tf.nn.softmax)\n",
        "\n",
        "      \n",
        "    with tf.variable_scope(\"OP\", reuse=tf.AUTO_REUSE):\n",
        "\n",
        "      self.cost = self.compute_cost(A5, self.Y)\n",
        "      self.acc = self.compute_acc(A5, self.Y)\n",
        "      self.train = tf.train.AdamOptimizer(learning_rate).minimize(self.cost)"
      ],
      "execution_count": 0,
      "outputs": []
    },
    {
      "metadata": {
        "id": "l0qG5nnRG-QR",
        "colab_type": "code",
        "colab": {}
      },
      "cell_type": "code",
      "source": [
        "epochs = 201\n",
        "learning_rate = 0.01\n",
        "\n",
        "myModel = Model(X_train.shape, Y_train.shape, learning_rate)"
      ],
      "execution_count": 0,
      "outputs": []
    },
    {
      "metadata": {
        "id": "dUptImMsI9xn",
        "colab_type": "code",
        "colab": {
          "base_uri": "https://localhost:8080/",
          "height": 422
        },
        "outputId": "6c7226a8-6674-4345-e13d-c0370549241c"
      },
      "cell_type": "code",
      "source": [
        "sess = tf.Session()\n",
        "sess.run(tf.global_variables_initializer())\n",
        "sess.run(tf.local_variables_initializer())\n",
        "for epoch in range(epochs):\n",
        "  _, cost, acc = sess.run([myModel.train, myModel.cost, myModel.acc], feed_dict={myModel.X: X_train, myModel.Y: Y_train})\n",
        "  if epoch % 10 == 0 :\n",
        "    print(\"Epoch:\", epoch,\"\\t\", \"Cost:\",cost,\"\\t\", \"Acc:\",acc * 100)\n",
        "print(\"Train Acc:\",acc*100)\n",
        "acc = sess.run(myModel.acc, feed_dict={myModel.X: X_test, myModel.Y: Y_test})\n",
        "print(\"Test Acc:\", acc * 100 )"
      ],
      "execution_count": 10,
      "outputs": [
        {
          "output_type": "stream",
          "text": [
            "Epoch: 0 \t Cost: 2.302901 \t Acc: 9.98999997973442\n",
            "Epoch: 10 \t Cost: 1.8018311 \t Acc: 66.03666543960571\n",
            "Epoch: 20 \t Cost: 1.6593559 \t Acc: 80.28666377067566\n",
            "Epoch: 30 \t Cost: 1.6198481 \t Acc: 84.14333462715149\n",
            "Epoch: 40 \t Cost: 1.6037098 \t Acc: 85.73166728019714\n",
            "Epoch: 50 \t Cost: 1.592531 \t Acc: 86.85833215713501\n",
            "Epoch: 60 \t Cost: 1.5845796 \t Acc: 87.66166567802429\n",
            "Epoch: 70 \t Cost: 1.5786327 \t Acc: 88.25500011444092\n",
            "Epoch: 80 \t Cost: 1.5745842 \t Acc: 88.61666917800903\n",
            "Epoch: 90 \t Cost: 1.5714146 \t Acc: 88.93666863441467\n",
            "Epoch: 100 \t Cost: 1.5692177 \t Acc: 89.13999795913696\n",
            "Epoch: 110 \t Cost: 1.5676013 \t Acc: 89.29166793823242\n",
            "Epoch: 120 \t Cost: 1.5663682 \t Acc: 89.38999772071838\n",
            "Epoch: 130 \t Cost: 1.5898132 \t Acc: 87.0283305644989\n",
            "Epoch: 140 \t Cost: 1.5069408 \t Acc: 95.56000232696533\n",
            "Epoch: 150 \t Cost: 1.4884747 \t Acc: 97.30666875839233\n",
            "Epoch: 160 \t Cost: 1.4816482 \t Acc: 98.00333380699158\n",
            "Epoch: 170 \t Cost: 1.4776784 \t Acc: 98.40999841690063\n",
            "Epoch: 180 \t Cost: 1.4750438 \t Acc: 98.68500232696533\n",
            "Epoch: 190 \t Cost: 1.4734154 \t Acc: 98.84666800498962\n",
            "Epoch: 200 \t Cost: 1.472137 \t Acc: 98.97500276565552\n",
            "Train Acc: 98.97500276565552\n",
            "Test Acc: 98.54000210762024\n"
          ],
          "name": "stdout"
        }
      ]
    },
    {
      "metadata": {
        "id": "onrOPjIoLgmR",
        "colab_type": "code",
        "colab": {
          "base_uri": "https://localhost:8080/",
          "height": 583
        },
        "outputId": "4670f614-93da-4ff6-f6a4-bdcbbcbcc931"
      },
      "cell_type": "code",
      "source": [
        "%matplotlib inline\n",
        "Y_hat, Y_label = sess.run([myModel.Y_hat, myModel.Y_label], feed_dict={myModel.X: X_test, myModel.Y:Y_test})\n",
        "fig=plt.figure(figsize=(20, 10))\n",
        "\n",
        "not_equal= Y_hat!=Y_label\n",
        "imgs = X_test[not_equal] \n",
        "r = np.random.randint(len(imgs)-10, size=1)\n",
        "for i in range(10):\n",
        "  img = imgs[i+r].reshape(28, 28)\n",
        "  fig.add_subplot(2, 5, i+1)\n",
        "  plt.imshow(img)\n",
        "  plt.title(\"Target: \"+str(Y_label[not_equal][i+r])+\"\\nPredict: \"+ str(Y_hat[not_equal][i+r]) )\n"
      ],
      "execution_count": 8,
      "outputs": [
        {
          "output_type": "stream",
          "text": [
            "179\n"
          ],
          "name": "stdout"
        },
        {
          "output_type": "display_data",
          "data": {
            "image/png": "[encoded data removed]",
            "text/plain": [
              "<matplotlib.figure.Figure at 0x7f4cca82a780>"
            ]
          },
          "metadata": {
            "tags": []
          }
        }
      ]
    },
    {
      "metadata": {
        "id": "xqtJCsIjbeZD",
        "colab_type": "code",
        "colab": {}
      },
      "cell_type": "code",
      "source": [
        ""
      ],
      "execution_count": 0,
      "outputs": []
    }
  ]
}