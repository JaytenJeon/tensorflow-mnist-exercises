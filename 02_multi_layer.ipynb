{
  "nbformat": 4,
  "nbformat_minor": 0,
  "metadata": {
    "colab": {
      "name": "02.multi-layer.ipynb",
      "version": "0.3.2",
      "provenance": []
    },
    "kernelspec": {
      "name": "python3",
      "display_name": "Python 3"
    },
    "accelerator": "GPU"
  },
  "cells": [
    {
      "metadata": {
        "id": "wl_pfSDEHCzA",
        "colab_type": "code",
        "colab": {}
      },
      "cell_type": "code",
      "source": [
        "import tensorflow as tf\n",
        "import numpy as np\n",
        "import matplotlib.pyplot as plt\n",
        "from tensorflow.keras.datasets import mnist"
      ],
      "execution_count": 0,
      "outputs": []
    },
    {
      "metadata": {
        "id": "WOihG1ydHkj-",
        "colab_type": "code",
        "colab": {
          "base_uri": "https://localhost:8080/",
          "height": 105
        },
        "outputId": "5098e06c-0510-4298-8592-4c270de9b4b2"
      },
      "cell_type": "code",
      "source": [
        "(X_train, Y_train), (X_test, Y_test) = mnist.load_data()\n",
        "n_class = 10\n",
        "\n",
        "X_train = np.reshape(X_train, (-1, 28 * 28)) / 255.\n",
        "X_test = np.reshape(X_test, (-1, 28 * 28)) /255.\n",
        "\n",
        "Y_train = np.eye(n_class)[Y_train]\n",
        "Y_test = np.eye(n_class)[Y_test]\n",
        "\n",
        "print(\"X_train.shape :\", X_train.shape)\n",
        "print(\"Y_train.shape :\", Y_train.shape)\n",
        "print()\n",
        "print(\"X_test.shape :\", X_test.shape)\n",
        "print(\"Y_test.shape :\", Y_test.shape)"
      ],
      "execution_count": 2,
      "outputs": [
        {
          "output_type": "stream",
          "text": [
            "X_train.shape : (60000, 784)\n",
            "Y_train.shape : (60000, 10)\n",
            "\n",
            "X_test.shape : (10000, 784)\n",
            "Y_test.shape : (10000, 10)\n"
          ],
          "name": "stdout"
        }
      ]
    },
    {
      "metadata": {
        "id": "cpXQPNqS-ZPH",
        "colab_type": "code",
        "colab": {}
      },
      "cell_type": "code",
      "source": [
        "class Model(object):\n",
        "  def __init__(self, X_shape, Y_shape, n_hidden, n_layer, learning_rate):\n",
        "    self.build_graph(X_shape, Y_shape, n_hidden, n_layer, learning_rate)\n",
        "    \n",
        "  def make_placeholder(self, X_shape, Y_shape):\n",
        "    self.X = tf.placeholder(tf.float32, [None, X_shape[1]], name=\"X\")\n",
        "    self.Y = tf.placeholder(tf.int32, [None, Y_shape[1]], name=\"Y\")\n",
        "    \n",
        "  def initialize_parameter(self, shape, name):\n",
        "    var = tf.get_variable(name=name, shape=shape, initializer=tf.contrib.layers.xavier_initializer(seed=20181008))\n",
        "    return var\n",
        "  \n",
        "  def fully_connected_layer(self, X, W, b):\n",
        "    Z = tf.matmul(X, W) + b\n",
        "    A = tf.nn.softmax(Z)\n",
        "    return A\n",
        "  \n",
        "  def compute_cost(self, A, Y):\n",
        "    cost = tf.reduce_mean(tf.nn.softmax_cross_entropy_with_logits_v2(logits=A, labels=Y))\n",
        "    return cost\n",
        "  \n",
        "  def compute_acc(self, A, Y):\n",
        "    self.Y_hat = tf.argmax(A, axis=1)\n",
        "    self.Y_label = tf.argmax(Y, axis=1)\n",
        "    equals = tf.equal(self.Y_label, self.Y_hat)\n",
        "    acc = tf.reduce_mean(tf.cast(equals, tf.float32))\n",
        "    return acc\n",
        "  \n",
        "  def build_graph(self, X_shape, Y_shape, n_hidden, n_layer, learning_rate):\n",
        "    self.make_placeholder(X_shape, Y_shape)\n",
        "    for n in range(1, n_layer+1):\n",
        "      if n == 1:\n",
        "        A = self.X\n",
        "        n_input = X_shape[1]\n",
        "      else:\n",
        "        n_input = n_hidden\n",
        "      \n",
        "      if n == n_layer:\n",
        "        n_output = Y_shape[1]\n",
        "      else:\n",
        "        n_output = n_hidden\n",
        "        \n",
        "      with tf.variable_scope(\"FC\"+str(n), reuse=tf.AUTO_REUSE):\n",
        "        W = self.initialize_parameter([n_input, n_output], \"W\"+str(n))\n",
        "        b = self.initialize_parameter([n_output], \"b\"+str(n))\n",
        "        A = self.fully_connected_layer(A, W, b)\n",
        "\n",
        "    with tf.variable_scope(\"OP\", reuse=tf.AUTO_REUSE):\n",
        "\n",
        "      self.cost = self.compute_cost(A, self.Y)\n",
        "      self.acc = self.compute_acc(A, self.Y)\n",
        "      self.train = tf.train.AdamOptimizer(learning_rate).minimize(self.cost)"
      ],
      "execution_count": 0,
      "outputs": []
    },
    {
      "metadata": {
        "id": "l0qG5nnRG-QR",
        "colab_type": "code",
        "colab": {}
      },
      "cell_type": "code",
      "source": [
        "epochs = 201\n",
        "learning_rate = 0.01\n",
        "n_hidden = 128\n",
        "n_layer = 2\n",
        "\n",
        "myModel = Model(X_train.shape, Y_train.shape, n_hidden, n_layer, learning_rate)"
      ],
      "execution_count": 0,
      "outputs": []
    },
    {
      "metadata": {
        "id": "dUptImMsI9xn",
        "colab_type": "code",
        "colab": {
          "base_uri": "https://localhost:8080/",
          "height": 422
        },
        "outputId": "0f610a6c-b81c-4d69-ceb9-32233cdda5b4"
      },
      "cell_type": "code",
      "source": [
        "sess = tf.Session()\n",
        "sess.run(tf.global_variables_initializer())\n",
        "sess.run(tf.local_variables_initializer())\n",
        "for epoch in range(epochs):\n",
        "  _, cost, acc = sess.run([myModel.train, myModel.cost, myModel.acc], feed_dict={myModel.X: X_train, myModel.Y: Y_train})\n",
        "  if epoch % 10 == 0 :\n",
        "    print(\"Epoch:\", epoch,\"\\t\", \"Cost:\",cost,\"\\t\", \"Acc:\",acc * 100)\n",
        "print(\"Train Acc:\",acc*100)\n",
        "acc = sess.run(myModel.acc, feed_dict={myModel.X: X_test, myModel.Y: Y_test})\n",
        "print(\"Test Acc:\", acc * 100 )"
      ],
      "execution_count": 5,
      "outputs": [
        {
          "output_type": "stream",
          "text": [
            "Epoch: 0 \t Cost: 2.3022823 \t Acc: 10.441666841506958\n",
            "Epoch: 10 \t Cost: 2.2775447 \t Acc: 41.46333336830139\n",
            "Epoch: 20 \t Cost: 2.2511585 \t Acc: 45.186665654182434\n",
            "Epoch: 30 \t Cost: 2.2198875 \t Acc: 50.99833607673645\n",
            "Epoch: 40 \t Cost: 2.181973 \t Acc: 66.70666933059692\n",
            "Epoch: 50 \t Cost: 2.1369064 \t Acc: 83.88500213623047\n",
            "Epoch: 60 \t Cost: 2.0849462 \t Acc: 85.57166457176208\n",
            "Epoch: 70 \t Cost: 2.027611 \t Acc: 86.13333106040955\n",
            "Epoch: 80 \t Cost: 1.9674729 \t Acc: 88.18166851997375\n",
            "Epoch: 90 \t Cost: 1.9079654 \t Acc: 89.13499712944031\n",
            "Epoch: 100 \t Cost: 1.851392 \t Acc: 90.17500281333923\n",
            "Epoch: 110 \t Cost: 1.7987573 \t Acc: 94.0999984741211\n",
            "Epoch: 120 \t Cost: 1.750806 \t Acc: 94.59333419799805\n",
            "Epoch: 130 \t Cost: 1.7103584 \t Acc: 94.83500123023987\n",
            "Epoch: 140 \t Cost: 1.6782717 \t Acc: 94.99833583831787\n",
            "Epoch: 150 \t Cost: 1.6527821 \t Acc: 95.18499970436096\n",
            "Epoch: 160 \t Cost: 1.6323943 \t Acc: 95.34500241279602\n",
            "Epoch: 170 \t Cost: 1.6159219 \t Acc: 95.48500180244446\n",
            "Epoch: 180 \t Cost: 1.6026617 \t Acc: 95.55666446685791\n",
            "Epoch: 190 \t Cost: 1.591739 \t Acc: 95.660001039505\n",
            "Epoch: 200 \t Cost: 1.5826013 \t Acc: 95.71999907493591\n",
            "Train Acc: 95.71999907493591\n",
            "Test Acc: 93.58000159263611\n"
          ],
          "name": "stdout"
        }
      ]
    },
    {
      "metadata": {
        "id": "onrOPjIoLgmR",
        "colab_type": "code",
        "colab": {
          "base_uri": "https://localhost:8080/",
          "height": 566
        },
        "outputId": "7a078fe5-5642-4fd5-ddbd-2a34a17678a3"
      },
      "cell_type": "code",
      "source": [
        "%matplotlib inline\n",
        "Y_hat, Y_label = sess.run([myModel.Y_hat, myModel.Y_label], feed_dict={myModel.X: X_test, myModel.Y:Y_test})\n",
        "fig=plt.figure(figsize=(20, 10))\n",
        "\n",
        "not_equal= Y_hat!=Y_label\n",
        "imgs = X_test[not_equal] \n",
        "r = np.random.randint(len(imgs)-10, size=1)\n",
        "for i in range(10):\n",
        "  img = imgs[i+r].reshape(28, 28)\n",
        "  fig.add_subplot(2, 5, i+1)\n",
        "  plt.imshow(img)\n",
        "  plt.title(\"Target: \"+str(Y_label[not_equal][i+r])+\"\\nPredict: \"+ str(Y_hat[not_equal][i+r]) )\n"
      ],
      "execution_count": 6,
      "outputs": [
        {
          "output_type": "display_data",
          "data": {
            "image/png": "[encoded data removed]",
            "text/plain": [
              "<matplotlib.figure.Figure at 0x7f42cc869e48>"
            ]
          },
          "metadata": {
            "tags": []
          }
        }
      ]
    },
    {
      "metadata": {
        "id": "xqtJCsIjbeZD",
        "colab_type": "code",
        "colab": {}
      },
      "cell_type": "code",
      "source": [
        ""
      ],
      "execution_count": 0,
      "outputs": []
    }
  ]
}