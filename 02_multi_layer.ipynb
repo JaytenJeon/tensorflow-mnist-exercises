{
  "nbformat": 4,
  "nbformat_minor": 0,
  "metadata": {
    "colab": {
      "name": "02.multi-layer.ipynb",
      "version": "0.3.2",
      "provenance": []
    },
    "kernelspec": {
      "name": "python3",
      "display_name": "Python 3"
    },
    "accelerator": "GPU"
  },
  "cells": [
    {
      "metadata": {
        "id": "wl_pfSDEHCzA",
        "colab_type": "code",
        "colab": {}
      },
      "cell_type": "code",
      "source": [
        "import tensorflow as tf\n",
        "import numpy as np\n",
        "import matplotlib.pyplot as plt\n",
        "from tensorflow.keras.datasets import mnist"
      ],
      "execution_count": 0,
      "outputs": []
    },
    {
      "metadata": {
        "id": "WOihG1ydHkj-",
        "colab_type": "code",
        "colab": {
          "base_uri": "https://localhost:8080/",
          "height": 105
        },
        "outputId": "f753298d-7627-478d-f463-d507f40111a7"
      },
      "cell_type": "code",
      "source": [
        "(X_train, Y_train), (X_test, Y_test) = mnist.load_data()\n",
        "n_class = 10\n",
        "\n",
        "X_train = np.reshape(X_train, (-1, 28 * 28)) / 255.\n",
        "X_test = np.reshape(X_test, (-1, 28 * 28)) /255.\n",
        "\n",
        "Y_train = np.eye(n_class)[Y_train]\n",
        "Y_test = np.eye(n_class)[Y_test]\n",
        "\n",
        "print(\"X_train.shape :\", X_train.shape)\n",
        "print(\"Y_train.shape :\", Y_train.shape)\n",
        "print()\n",
        "print(\"X_test.shape :\", X_test.shape)\n",
        "print(\"Y_test.shape :\", Y_test.shape)"
      ],
      "execution_count": 2,
      "outputs": [
        {
          "output_type": "stream",
          "text": [
            "X_train.shape : (60000, 784)\n",
            "Y_train.shape : (60000, 10)\n",
            "\n",
            "X_test.shape : (10000, 784)\n",
            "Y_test.shape : (10000, 10)\n"
          ],
          "name": "stdout"
        }
      ]
    },
    {
      "metadata": {
        "id": "cpXQPNqS-ZPH",
        "colab_type": "code",
        "colab": {}
      },
      "cell_type": "code",
      "source": [
        "class Model(object):\n",
        "  def __init__(self, X_shape, Y_shape, n_hidden, n_layer, learning_rate):\n",
        "    self.build_graph(X_shape, Y_shape, n_hidden, n_layer, learning_rate)\n",
        "    \n",
        "  def make_placeholder(self, X_shape, Y_shape):\n",
        "    self.X = tf.placeholder(tf.float32, [None, X_shape[1]], name=\"X\")\n",
        "    self.Y = tf.placeholder(tf.int32, [None, Y_shape[1]], name=\"Y\")\n",
        "    \n",
        "  def initialize_parameter(self, shape, name):\n",
        "    var = tf.get_variable(name=name, shape=shape, initializer=tf.contrib.layers.xavier_initializer(seed=20181008))\n",
        "    return var\n",
        "  \n",
        "  def fully_connected_layer(self, X, W, b, activation=\"softmax\"):\n",
        "    Z = tf.matmul(X, W) + b\n",
        "    if activation is \"softmax\":\n",
        "      A = tf.nn.softmax(Z)\n",
        "    elif activation is \"relu\":\n",
        "      A = tf.nn.relu(Z)\n",
        "    return A\n",
        "  \n",
        "  def compute_cost(self, A, Y):\n",
        "    cost = tf.reduce_mean(tf.nn.softmax_cross_entropy_with_logits_v2(logits=A, labels=Y))\n",
        "    return cost\n",
        "  \n",
        "  def compute_acc(self, A, Y):\n",
        "    self.Y_hat = tf.argmax(A, axis=1)\n",
        "    self.Y_label = tf.argmax(Y, axis=1)\n",
        "    equals = tf.equal(self.Y_label, self.Y_hat)\n",
        "    acc = tf.reduce_mean(tf.cast(equals, tf.float32))\n",
        "    return acc\n",
        "  \n",
        "  def build_graph(self, X_shape, Y_shape, n_hidden, n_layer, learning_rate):\n",
        "    self.make_placeholder(X_shape, Y_shape)\n",
        "    for n in range(1, n_layer+1):\n",
        "      if n == 1:\n",
        "        A = self.X\n",
        "        n_input = X_shape[1]\n",
        "      else:\n",
        "        n_input = n_hidden\n",
        "      \n",
        "      if n == n_layer:\n",
        "        n_output = Y_shape[1]\n",
        "      else:\n",
        "        n_output = n_hidden\n",
        "        \n",
        "      with tf.variable_scope(\"FC\"+str(n), reuse=tf.AUTO_REUSE):\n",
        "        W = self.initialize_parameter([n_input, n_output], \"W\"+str(n))\n",
        "        b = self.initialize_parameter([n_output], \"b\"+str(n))\n",
        "        if n==n_layer:\n",
        "          A = self.fully_connected_layer(A, W, b, \"softmax\")\n",
        "        else:\n",
        "          A = self.fully_connected_layer(A, W, b, \"relu\")\n",
        "\n",
        "    with tf.variable_scope(\"OP\", reuse=tf.AUTO_REUSE):\n",
        "\n",
        "      self.cost = self.compute_cost(A, self.Y)\n",
        "      self.acc = self.compute_acc(A, self.Y)\n",
        "      self.train = tf.train.AdamOptimizer(learning_rate).minimize(self.cost)"
      ],
      "execution_count": 0,
      "outputs": []
    },
    {
      "metadata": {
        "id": "l0qG5nnRG-QR",
        "colab_type": "code",
        "colab": {}
      },
      "cell_type": "code",
      "source": [
        "epochs = 1001\n",
        "learning_rate = 0.01\n",
        "n_hidden = 128\n",
        "n_layer = 3\n",
        "\n",
        "myModel = Model(X_train.shape, Y_train.shape, n_hidden, n_layer, learning_rate)"
      ],
      "execution_count": 0,
      "outputs": []
    },
    {
      "metadata": {
        "id": "dUptImMsI9xn",
        "colab_type": "code",
        "colab": {
          "base_uri": "https://localhost:8080/",
          "height": 246
        },
        "outputId": "b3791d14-381e-4ccb-a884-70e464827ebc"
      },
      "cell_type": "code",
      "source": [
        "sess = tf.Session()\n",
        "sess.run(tf.global_variables_initializer())\n",
        "sess.run(tf.local_variables_initializer())\n",
        "for epoch in range(epochs):\n",
        "  _, cost, acc = sess.run([myModel.train, myModel.cost, myModel.acc], feed_dict={myModel.X: X_train, myModel.Y: Y_train})\n",
        "  if epoch % 100 == 0 :\n",
        "    print(\"Epoch:\", epoch,\"\\t\", \"Cost:\",cost,\"\\t\", \"Acc:\",acc * 100)\n",
        "print(\"Train Acc:\",acc*100)\n",
        "acc = sess.run(myModel.acc, feed_dict={myModel.X: X_test, myModel.Y: Y_test})\n",
        "print(\"Test Acc:\", acc * 100 )"
      ],
      "execution_count": 5,
      "outputs": [
        {
          "output_type": "stream",
          "text": [
            "Epoch: 0 \t Cost: 2.3045838 \t Acc: 8.49333330988884\n",
            "Epoch: 100 \t Cost: 1.5699034 \t Acc: 89.13166522979736\n",
            "Epoch: 200 \t Cost: 1.4744058 \t Acc: 98.72166514396667\n",
            "Epoch: 300 \t Cost: 1.4721823 \t Acc: 98.90166521072388\n",
            "Epoch: 400 \t Cost: 1.4712304 \t Acc: 98.989999294281\n",
            "Epoch: 500 \t Cost: 1.4707018 \t Acc: 99.04000163078308\n",
            "Epoch: 600 \t Cost: 1.4704148 \t Acc: 99.06666874885559\n",
            "Epoch: 700 \t Cost: 1.4700755 \t Acc: 99.09999966621399\n",
            "Epoch: 800 \t Cost: 1.4699781 \t Acc: 99.1100013256073\n",
            "Epoch: 900 \t Cost: 1.4698361 \t Acc: 99.12333488464355\n",
            "Epoch: 1000 \t Cost: 1.4697565 \t Acc: 99.13166761398315\n",
            "Train Acc: 99.13166761398315\n",
            "Test Acc: 97.25000262260437\n"
          ],
          "name": "stdout"
        }
      ]
    },
    {
      "metadata": {
        "id": "onrOPjIoLgmR",
        "colab_type": "code",
        "colab": {
          "base_uri": "https://localhost:8080/",
          "height": 566
        },
        "outputId": "70cc1b0f-2828-4c58-b01b-13200f8eccf0"
      },
      "cell_type": "code",
      "source": [
        "%matplotlib inline\n",
        "Y_hat, Y_label = sess.run([myModel.Y_hat, myModel.Y_label], feed_dict={myModel.X: X_test, myModel.Y:Y_test})\n",
        "fig=plt.figure(figsize=(20, 10))\n",
        "\n",
        "not_equal= Y_hat!=Y_label\n",
        "imgs = X_test[not_equal] \n",
        "r = np.random.randint(len(imgs)-10, size=1)\n",
        "for i in range(10):\n",
        "  img = imgs[i+r].reshape(28, 28)\n",
        "  fig.add_subplot(2, 5, i+1)\n",
        "  plt.imshow(img)\n",
        "  plt.title(\"Target: \"+str(Y_label[not_equal][i+r])+\"\\nPredict: \"+ str(Y_hat[not_equal][i+r]) )\n"
      ],
      "execution_count": 6,
      "outputs": [
        {
          "output_type": "display_data",
          "data": {
            "image/png": "[encoded data removed]",
            "text/plain": [
              "<matplotlib.figure.Figure at 0x7f06b0d9d7b8>"
            ]
          },
          "metadata": {
            "tags": []
          }
        }
      ]
    },
    {
      "metadata": {
        "id": "xqtJCsIjbeZD",
        "colab_type": "code",
        "colab": {}
      },
      "cell_type": "code",
      "source": [
        ""
      ],
      "execution_count": 0,
      "outputs": []
    }
  ]
}